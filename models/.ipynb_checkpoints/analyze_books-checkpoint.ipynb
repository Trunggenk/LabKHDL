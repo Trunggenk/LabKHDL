{
 "cells": [
  {
   "metadata": {
    "jupyter": {
     "is_executing": true
    },
    "ExecuteTime": {
     "start_time": "2025-03-04T06:08:38.824257Z"
    }
   },
   "cell_type": "code",
   "source": "!pip install matplotlib pandas",
   "id": "f3ad7a30256694ed",
   "outputs": [],
   "execution_count": null
  },
  {
   "metadata": {
    "collapsed": true
   },
   "cell_type": "code",
   "outputs": [],
   "execution_count": null,
   "source": [
    "\n",
    "\n",
    "import requests\n",
    "import re\n",
    "import matplotlib.pyplot as plt\n",
    "import pandas as pd\n",
    "\n",
    "# URLs for the books\n",
    "url_huck_finn = \"<URL_for_Huck_Finn>\"\n",
    "url_little_women = \"<URL_for_Little_Women>\"\n",
    "\n",
    "def download_and_split(url, book_name):\n",
    "    response = requests.get(url)\n",
    "    text = response.text\n",
    "\n",
    "    if book_name == \"Huck Finn\":\n",
    "        chapters = re.split(r'CHAPTER [IVXLCDM]+', text)[1:]  # Example regex for splitting chapters\n",
    "    elif book_name == \"Little Women\":\n",
    "        chapters = re.split(r'CHAPTER [1-9][0-9]*', text)[1:]  # Example regex for splitting chapters\n",
    "\n",
    "    return [chapter.strip() for chapter in chapters]\n",
    "\n",
    "huck_finn_chapters = download_and_split(url_huck_finn, \"Huck Finn\")\n",
    "little_women_chapters = download_and_split(url_little_women, \"Little Women\")"
   ],
   "id": "initial_id"
  },
  {
   "metadata": {},
   "cell_type": "code",
   "outputs": [],
   "execution_count": null,
   "source": [
    "\n",
    "# Creating a DataFrame for displaying chapter information\n",
    "data = {\n",
    "    \"Book\": [\"Huck Finn\", \"Little Women\"],\n",
    "    \"Number of Chapters\": [len(huck_finn_chapters), len(little_women_chapters)],\n",
    "    \"Sample Chapters\": [huck_finn_chapters[:2], little_women_chapters[:2]]\n",
    "}\n",
    "\n",
    "df = pd.DataFrame(data)\n",
    "print(df)"
   ],
   "id": "305eed2e62b14a53"
  },
  {
   "metadata": {},
   "cell_type": "code",
   "outputs": [],
   "execution_count": null,
   "source": [
    "\n",
    "# Counting the number of words in each chapter\n",
    "huck_finn_lengths = [len(chapter.split()) for chapter in huck_finn_chapters]\n",
    "little_women_lengths = [len(chapter.split()) for chapter in little_women_chapters]\n",
    "\n",
    "# Plotting\n",
    "plt.figure(figsize=(10, 6))\n",
    "plt.plot(huck_finn_lengths, label=\"Huck Finn\", marker='o')\n",
    "plt.plot(little_women_lengths, label=\"Little Women\", marker='x')\n",
    "plt.title(\"Chapter Word Counts Comparison\")\n",
    "plt.xlabel(\"Chapter Number\")\n",
    "plt.ylabel(\"Word Count\")\n",
    "plt.legend()\n",
    "plt.show()"
   ],
   "id": "aad184385ec91b7d"
  }
 ],
 "metadata": {
  "kernelspec": {
   "display_name": "Python 3",
   "language": "python",
   "name": "python3"
  },
  "language_info": {
   "codemirror_mode": {
    "name": "ipython",
    "version": 2
   },
   "file_extension": ".py",
   "mimetype": "text/x-python",
   "name": "python",
   "nbconvert_exporter": "python",
   "pygments_lexer": "ipython2",
   "version": "2.7.6"
  }
 },
 "nbformat": 4,
 "nbformat_minor": 5
}
